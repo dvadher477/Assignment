{
  "nbformat": 4,
  "nbformat_minor": 0,
  "metadata": {
    "colab": {
      "provenance": []
    },
    "kernelspec": {
      "name": "python3",
      "display_name": "Python 3"
    },
    "language_info": {
      "name": "python"
    }
  },
  "cells": [
    {
      "cell_type": "markdown",
      "source": [
        "#**Q1**"
      ],
      "metadata": {
        "id": "f4H1MfxxigmY"
      }
    },
    {
      "cell_type": "markdown",
      "source": [
        "In Python, the keyword used to create a function is 'def'"
      ],
      "metadata": {
        "id": "FElQokOIjLhx"
      }
    },
    {
      "cell_type": "code",
      "source": [
        "def find_odd_numbers():\n",
        "    odd_numbers = []\n",
        "    for num in range(1, 26):\n",
        "        if num % 2 != 0:\n",
        "            odd_numbers.append(num)\n",
        "    return odd_numbers\n",
        "\n",
        "odd_numbers_list = find_odd_numbers()\n",
        "\n",
        "print(\"List of odd numbers in the range of 1 to 25:\", odd_numbers_list)"
      ],
      "metadata": {
        "colab": {
          "base_uri": "https://localhost:8080/"
        },
        "id": "9wNBCVhdihyZ",
        "outputId": "be6c7fbb-23e8-4a1a-fd2b-9bfa4d74caad"
      },
      "execution_count": 2,
      "outputs": [
        {
          "output_type": "stream",
          "name": "stdout",
          "text": [
            "List of odd numbers in the range of 1 to 25: [1, 3, 5, 7, 9, 11, 13, 15, 17, 19, 21, 23, 25]\n"
          ]
        }
      ]
    },
    {
      "cell_type": "markdown",
      "source": [
        "#**Q2**"
      ],
      "metadata": {
        "id": "JaEo4Atpjk7F"
      }
    },
    {
      "cell_type": "markdown",
      "source": [
        "###*args (Arbitrary Positional Arguments):\n",
        "The *args parameter allows a function to accept any number of positional arguments. These arguments are captured into a tuple within the function."
      ],
      "metadata": {
        "id": "2njZJd3Ujney"
      }
    },
    {
      "cell_type": "code",
      "source": [
        "def sum_all(*args):\n",
        "    total = 0\n",
        "    for num in args:\n",
        "        total += num\n",
        "    return total\n",
        "\n",
        "result = sum_all(1, 2, 3, 4, 5)\n",
        "print(\"Sum of all numbers:\", result)"
      ],
      "metadata": {
        "colab": {
          "base_uri": "https://localhost:8080/"
        },
        "id": "SklJC247jUpK",
        "outputId": "11dd69aa-d887-450b-b3b1-db02d952655a"
      },
      "execution_count": 5,
      "outputs": [
        {
          "output_type": "stream",
          "name": "stdout",
          "text": [
            "Sum of all numbers: 15\n"
          ]
        }
      ]
    },
    {
      "cell_type": "markdown",
      "source": [
        "###**kwargs (Arbitrary Keyword Arguments):\n",
        "The **kwargs parameter allows a function to accept any number of keyword arguments. These arguments are captured into a dictionary within the function, where the keys are the argument names and the values are the corresponding values."
      ],
      "metadata": {
        "id": "iAHMvPKVkEr5"
      }
    },
    {
      "cell_type": "code",
      "source": [
        "def display_info(**kwargs):\n",
        "    for key, value in kwargs.items():\n",
        "        print(f\"{key}: {value}\")\n",
        "\n",
        "display_info(name=\"John\", age=30, city=\"New York\", country=\"USA\")"
      ],
      "metadata": {
        "colab": {
          "base_uri": "https://localhost:8080/"
        },
        "id": "xJ99N-2dkANx",
        "outputId": "bdabf807-f856-4408-d998-fc48759eabf2"
      },
      "execution_count": 7,
      "outputs": [
        {
          "output_type": "stream",
          "name": "stdout",
          "text": [
            "name: John\n",
            "age: 30\n",
            "city: New York\n",
            "country: USA\n"
          ]
        }
      ]
    },
    {
      "cell_type": "markdown",
      "source": [
        "#**Q3**"
      ],
      "metadata": {
        "id": "2A44xfvIkUOk"
      }
    },
    {
      "cell_type": "markdown",
      "source": [
        "An iterator is an object that allows you to traverse through elements of a collection (like a list) one at a time. It provides a way to access elements sequentially without needing to know the internal structure of the collection."
      ],
      "metadata": {
        "id": "NqXtiTyLk9cf"
      }
    },
    {
      "cell_type": "markdown",
      "source": [
        "#####Initializing and Iterating Using Iterator Methods:\n",
        "i)Initializing the Iterator Object:\n",
        "\n",
        "To initialize an iterator object, you use the iter() method in Python. This method takes an iterable object (like a list) as its argument and returns an iterator object that points to the beginning of the iterable.\n",
        "\n",
        "ii)Method for Iteration:\n",
        "\n",
        "Once you have an iterator object, you can iterate through its elements using the next() method. This method retrieves the next element in the iterator. When all elements have been accessed, it raises a StopIteration exception."
      ],
      "metadata": {
        "id": "WyCW_kcklA-E"
      }
    },
    {
      "cell_type": "code",
      "source": [
        "my_list = [2, 4, 6, 8, 10, 12, 14, 16, 18, 20]\n",
        "\n",
        "my_iterator = iter(my_list)\n",
        "\n",
        "print(\"First five elements of the list:\")\n",
        "for _ in range(5):\n",
        "    print(next(my_iterator))\n"
      ],
      "metadata": {
        "colab": {
          "base_uri": "https://localhost:8080/"
        },
        "id": "IieRIk7rkVp4",
        "outputId": "be2cb9c6-1f6a-4250-9c87-4660f0246fcc"
      },
      "execution_count": 8,
      "outputs": [
        {
          "output_type": "stream",
          "name": "stdout",
          "text": [
            "First five elements of the list:\n",
            "2\n",
            "4\n",
            "6\n",
            "8\n",
            "10\n"
          ]
        }
      ]
    },
    {
      "cell_type": "markdown",
      "source": [
        "#**Q4**"
      ],
      "metadata": {
        "id": "RTYH_O32lUDs"
      }
    },
    {
      "cell_type": "markdown",
      "source": [
        " A generator function is a special type of function that allows you to generate a sequence of values lazily, on-the-fly, instead of generating and storing all values in memory at once. This makes generator functions memory efficient and suitable for handling large datasets or infinite sequences."
      ],
      "metadata": {
        "id": "VGhxlPKgljQq"
      }
    },
    {
      "cell_type": "markdown",
      "source": [
        "The 'yield' keyword is used in generator functions to indicate where the function should pause its execution and yield a value back to the caller. When a generator function is called, it returns a generator object that can be iterated over to retrieve values produced by the generator function, one at a time."
      ],
      "metadata": {
        "id": "a24688bLllYN"
      }
    },
    {
      "cell_type": "code",
      "source": [
        "def square_generator(limit):\n",
        "    num = 1\n",
        "    while num <= limit:\n",
        "        yield num ** 2\n",
        "        num += 1\n",
        "\n",
        "squares = square_generator(5)\n",
        "\n",
        "print(\"Generated squares:\")\n",
        "for square in squares:\n",
        "    print(square)\n"
      ],
      "metadata": {
        "colab": {
          "base_uri": "https://localhost:8080/"
        },
        "id": "B5jupacalSir",
        "outputId": "aecc6755-885f-43c2-8c3c-3b126af547fb"
      },
      "execution_count": 9,
      "outputs": [
        {
          "output_type": "stream",
          "name": "stdout",
          "text": [
            "Generated squares:\n",
            "1\n",
            "4\n",
            "9\n",
            "16\n",
            "25\n"
          ]
        }
      ]
    },
    {
      "cell_type": "markdown",
      "source": [
        "#**Q5**"
      ],
      "metadata": {
        "id": "nuZK4byLmYjd"
      }
    },
    {
      "cell_type": "code",
      "source": [
        "def is_prime(num):\n",
        "    \"\"\" Function to check if a number is prime \"\"\"\n",
        "    if num <= 1:\n",
        "        return False\n",
        "    if num == 2:\n",
        "        return True\n",
        "    if num % 2 == 0:\n",
        "        return False\n",
        "    for i in range(3, int(num**0.5) + 1, 2):\n",
        "        if num % i == 0:\n",
        "            return False\n",
        "    return True\n",
        "\n",
        "def prime_generator():\n",
        "    \"\"\" Generator function to yield prime numbers less than 1000 \"\"\"\n",
        "    num = 2\n",
        "    while num < 1000:\n",
        "        if is_prime(num):\n",
        "            yield num\n",
        "        num += 1\n",
        "\n",
        "prime_gen = prime_generator()\n",
        "\n",
        "print(\"First 20 prime numbers less than 1000:\")\n",
        "for _ in range(20):\n",
        "    print(next(prime_gen))\n"
      ],
      "metadata": {
        "colab": {
          "base_uri": "https://localhost:8080/"
        },
        "id": "OtecFmpcmcT-",
        "outputId": "3a4cc60e-c679-480d-a8fe-f03befb1c589"
      },
      "execution_count": 10,
      "outputs": [
        {
          "output_type": "stream",
          "name": "stdout",
          "text": [
            "First 20 prime numbers less than 1000:\n",
            "2\n",
            "3\n",
            "5\n",
            "7\n",
            "11\n",
            "13\n",
            "17\n",
            "19\n",
            "23\n",
            "29\n",
            "31\n",
            "37\n",
            "41\n",
            "43\n",
            "47\n",
            "53\n",
            "59\n",
            "61\n",
            "67\n",
            "71\n"
          ]
        }
      ]
    },
    {
      "cell_type": "markdown",
      "source": [
        "#**Q6**"
      ],
      "metadata": {
        "id": "rC4p93_vmph6"
      }
    },
    {
      "cell_type": "code",
      "source": [
        "a, b = 0, 1\n",
        "\n",
        "count = 0\n",
        "\n",
        "print(\"First 10 Fibonacci numbers:\")\n",
        "while count < 10:\n",
        "    print(a)\n",
        "\n",
        "    a, b = b, a + b\n",
        "\n",
        "    count += 1\n"
      ],
      "metadata": {
        "colab": {
          "base_uri": "https://localhost:8080/"
        },
        "id": "8yeHeSWmmtG8",
        "outputId": "193ebac4-c824-4acf-decd-c75e0fc6ace3"
      },
      "execution_count": 15,
      "outputs": [
        {
          "output_type": "stream",
          "name": "stdout",
          "text": [
            "First 10 Fibonacci numbers:\n",
            "0\n",
            "1\n",
            "1\n",
            "2\n",
            "3\n",
            "5\n",
            "8\n",
            "13\n",
            "21\n",
            "34\n"
          ]
        }
      ]
    },
    {
      "cell_type": "markdown",
      "source": [
        "#**Q7**"
      ],
      "metadata": {
        "id": "DQ6BVDhgnMKT"
      }
    },
    {
      "cell_type": "code",
      "source": [
        "string = 'pwskills'\n",
        "\n",
        "characters_list = [char for char in string]\n",
        "\n",
        "print(characters_list)\n"
      ],
      "metadata": {
        "colab": {
          "base_uri": "https://localhost:8080/"
        },
        "id": "9_DMWplxnOBg",
        "outputId": "32fb3c69-4b51-464e-cb6d-47da11409591"
      },
      "execution_count": 16,
      "outputs": [
        {
          "output_type": "stream",
          "name": "stdout",
          "text": [
            "['p', 'w', 's', 'k', 'i', 'l', 'l', 's']\n"
          ]
        }
      ]
    },
    {
      "cell_type": "code",
      "source": [],
      "metadata": {
        "id": "mguIqEP0ndE-"
      },
      "execution_count": null,
      "outputs": []
    },
    {
      "cell_type": "markdown",
      "source": [
        "#**Q8**"
      ],
      "metadata": {
        "id": "oIcL-tjWneQX"
      }
    },
    {
      "cell_type": "code",
      "source": [
        "def is_palindrome(number):\n",
        "    number_str = str(number)\n",
        "\n",
        "    left = 0\n",
        "    right = len(number_str) - 1\n",
        "\n",
        "    while left < right:\n",
        "        if number_str[left] != number_str[right]:\n",
        "            return False\n",
        "        left += 1\n",
        "        right -= 1\n",
        "\n",
        "    return True\n",
        "\n",
        "num = input(\"Enter a number: \")\n",
        "\n",
        "try:\n",
        "    num = int(num)\n",
        "except ValueError:\n",
        "    print(\"Invalid input. Please enter a valid integer.\")\n",
        "    exit()\n",
        "\n",
        "if is_palindrome(num):\n",
        "    print(f\"{num} is a palindrome.\")\n",
        "else:\n",
        "    print(f\"{num} is not a palindrome.\")\n"
      ],
      "metadata": {
        "colab": {
          "base_uri": "https://localhost:8080/"
        },
        "id": "LhZ_LvNRngnx",
        "outputId": "e91659c7-e8f8-414e-9793-d4e1186b6a5c"
      },
      "execution_count": 18,
      "outputs": [
        {
          "output_type": "stream",
          "name": "stdout",
          "text": [
            "Enter a number: 12345\n",
            "12345 is not a palindrome.\n"
          ]
        }
      ]
    },
    {
      "cell_type": "markdown",
      "source": [
        "#**Q9**"
      ],
      "metadata": {
        "id": "q7eTbA_eoSAp"
      }
    },
    {
      "cell_type": "code",
      "source": [
        "numbers = [num for num in range(1, 101)]\n",
        "\n",
        "odd_numbers = [num for num in numbers if num % 2 != 0]\n",
        "\n",
        "print(\"Odd numbers from 1 to 100:\")\n",
        "print(odd_numbers)\n"
      ],
      "metadata": {
        "colab": {
          "base_uri": "https://localhost:8080/"
        },
        "id": "_CpRqWU2oUDg",
        "outputId": "cbbe0a70-e35a-40a1-bc75-8732645d131f"
      },
      "execution_count": 19,
      "outputs": [
        {
          "output_type": "stream",
          "name": "stdout",
          "text": [
            "Odd numbers from 1 to 100:\n",
            "[1, 3, 5, 7, 9, 11, 13, 15, 17, 19, 21, 23, 25, 27, 29, 31, 33, 35, 37, 39, 41, 43, 45, 47, 49, 51, 53, 55, 57, 59, 61, 63, 65, 67, 69, 71, 73, 75, 77, 79, 81, 83, 85, 87, 89, 91, 93, 95, 97, 99]\n"
          ]
        }
      ]
    },
    {
      "cell_type": "code",
      "source": [],
      "metadata": {
        "id": "Y80nFhETohCZ"
      },
      "execution_count": null,
      "outputs": []
    }
  ]
}