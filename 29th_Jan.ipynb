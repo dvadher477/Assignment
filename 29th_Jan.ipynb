{
  "nbformat": 4,
  "nbformat_minor": 0,
  "metadata": {
    "colab": {
      "provenance": []
    },
    "kernelspec": {
      "name": "python3",
      "display_name": "Python 3"
    },
    "language_info": {
      "name": "python"
    }
  },
  "cells": [
    {
      "cell_type": "markdown",
      "source": [
        "#**Q1**"
      ],
      "metadata": {
        "id": "wf9pFLJgaO0V"
      }
    },
    {
      "cell_type": "markdown",
      "source": [
        "Python was created by Guido van Rossum. He started working on it in the late 1980s, and the language was first released in 1991."
      ],
      "metadata": {
        "id": "JYwG49w_acY-"
      }
    },
    {
      "cell_type": "markdown",
      "source": [
        "#**Q2**"
      ],
      "metadata": {
        "id": "lOzmEloxaccm"
      }
    },
    {
      "cell_type": "markdown",
      "source": [
        "1. Imperative Programming: Python supports imperative programming, where you write sequences of statements that change the program's state. You use constructs like loops, conditionals, and assignments to control the flow of the program.\n",
        "\n",
        "2. Object-Oriented Programming (OOP): Python supports OOP, allowing you to define classes and create objects. It promotes the use of encapsulation, inheritance, and polymorphism to structure and organize code. This paradigm helps in creating reusable and modular code.\n",
        "\n",
        "3. Functional Programming: Python supports functional programming principles, where you use functions as first-class objects. You can pass functions as arguments, return them from other functions, and use higher-order functions like map, filter, and reduce. Python also supports anonymous functions using lambda.\n",
        "\n",
        "4. Procedural Programming: This is a subset of imperative programming where the focus is on procedures or functions. Python allows you to organize code into reusable functions and modules, facilitating structured programming.\n",
        "\n",
        "5. Reflective Programming: Python has reflection capabilities, allowing you to inspect and modify the program structure at runtime. This includes using functions like getattr, setattr, and introspection tools to examine objects.\n",
        "\n",
        "6. Declarative Programming: Although not as central as other paradigms, Python can support declarative programming to some extent, especially through its use of libraries that implement declarative approaches, such as SQLAlchemy for database interaction."
      ],
      "metadata": {
        "id": "f6yHJwB8acfm"
      }
    },
    {
      "cell_type": "markdown",
      "source": [
        "#**Q3**"
      ],
      "metadata": {
        "id": "uAvSNeUyaci1"
      }
    },
    {
      "cell_type": "markdown",
      "source": [
        "Yes, Python is case sensitive when dealing with identifiers. This means that variables, functions, and other identifiers must be used consistently with the same capitalization throughout your code."
      ],
      "metadata": {
        "id": "SxM1m2szaclV"
      }
    },
    {
      "cell_type": "markdown",
      "source": [
        "#**Q4**"
      ],
      "metadata": {
        "id": "R1IMbc0SacoZ"
      }
    },
    {
      "cell_type": "markdown",
      "source": [
        "The correct file extension for Python files is .py. This extension is used for Python scripts and modules."
      ],
      "metadata": {
        "id": "FbYQNI0yacrb"
      }
    },
    {
      "cell_type": "markdown",
      "source": [
        "#**Q5**"
      ],
      "metadata": {
        "id": "VD5jpER8acuh"
      }
    },
    {
      "cell_type": "markdown",
      "source": [
        "Python is often described as an interpreted language, but it's useful to understand that it involves both interpretation and compilation processes."
      ],
      "metadata": {
        "id": "5C6l1WQ6acxa"
      }
    },
    {
      "cell_type": "markdown",
      "source": [
        "#**Q6**"
      ],
      "metadata": {
        "id": "6VBZdwVmac0g"
      }
    },
    {
      "cell_type": "markdown",
      "source": [
        "i)Function Definitions              \n",
        "ii)Conditional Statements           \n",
        "iii)Loops            \n",
        "iv)Class Definitions          \n",
        "v)Exception Handling           \n",
        "vi)Context Managers            \n",
        "vii)Lambda Functions"
      ],
      "metadata": {
        "id": "_fBRmtC-ac3T"
      }
    },
    {
      "cell_type": "markdown",
      "source": [
        "#**Q7**"
      ],
      "metadata": {
        "id": "mUG4gSNqac6h"
      }
    },
    {
      "cell_type": "markdown",
      "source": [
        "In Python, the character used to indicate a single-line comment is the hash symbol ('#')."
      ],
      "metadata": {
        "id": "FlLdV7hYac9X"
      }
    },
    {
      "cell_type": "markdown",
      "source": [
        "#**Q8**"
      ],
      "metadata": {
        "id": "96Zj06scadA7"
      }
    },
    {
      "cell_type": "markdown",
      "source": [
        "i)sys.info            \n",
        "ii)sys.version_info     \n",
        "iii)platform.python_version()   \n",
        "iv)platform.python_version_tuple()"
      ],
      "metadata": {
        "id": "lUdqNbMSadEC"
      }
    },
    {
      "cell_type": "markdown",
      "source": [
        "#**Q9**"
      ],
      "metadata": {
        "id": "gQ7UHB1TadHF"
      }
    },
    {
      "cell_type": "markdown",
      "source": [
        "Python supports the creation of anonymous functions at runtime using a construct called a lambda function."
      ],
      "metadata": {
        "id": "3xVx8yJVadKq"
      }
    },
    {
      "cell_type": "markdown",
      "source": [
        "#**Q10**"
      ],
      "metadata": {
        "id": "0YZ_GaIWadOE"
      }
    },
    {
      "cell_type": "markdown",
      "source": [
        "'pip' stands for 'Pip Installs Packages' or 'Pip Installs Python'. It is a package management system used to install and manage software packages written in Python."
      ],
      "metadata": {
        "id": "4_KkeeaNadQr"
      }
    },
    {
      "cell_type": "markdown",
      "source": [
        "#**Q11**"
      ],
      "metadata": {
        "id": "PQAKHPxaadUV"
      }
    },
    {
      "cell_type": "markdown",
      "source": [
        "1. print()\n",
        "2. len()\n",
        "3. type()\n",
        "4. int()\n",
        "5. float()\n",
        "6. str()\n",
        "7. list()\n",
        "8. tuple()\n",
        "9. dict()"
      ],
      "metadata": {
        "id": "sEJRfUctadX6"
      }
    },
    {
      "cell_type": "markdown",
      "source": [
        "#**Q12**"
      ],
      "metadata": {
        "id": "bC3BkZlfadbf"
      }
    },
    {
      "cell_type": "markdown",
      "source": [
        "In Python, the maximum length of an identifier (such as variable names, function names, or class names) is technically unlimited. There is no specific maximum length defined for identifiers in Python itself."
      ],
      "metadata": {
        "id": "wV2B4SeZade9"
      }
    },
    {
      "cell_type": "markdown",
      "source": [
        "#**Q13**"
      ],
      "metadata": {
        "id": "3XHJS89_adiv"
      }
    },
    {
      "cell_type": "markdown",
      "source": [
        "Python's benefits include its simplicity and readability, versatility across various domains, a rich standard library, strong community support, and extensive libraries and frameworks. These features make Python a powerful tool for both beginners and experienced developers in a wide range of fields."
      ],
      "metadata": {
        "id": "9wndZLp9Vfdo"
      }
    },
    {
      "cell_type": "markdown",
      "source": [
        "#**Q14**"
      ],
      "metadata": {
        "id": "o0PqKM_UVfvr"
      }
    },
    {
      "cell_type": "markdown",
      "source": [
        "1. Automatic Memory Management\n",
        "2. Reference Counting\n",
        "3. Garbage Collection for Cyclic References\n",
        "4. Memory Pools and Allocation\n",
        "5. Python Memory Allocator\n",
        "6. Manual Memory Management\n",
        "7. Memory Management in Python Versions"
      ],
      "metadata": {
        "id": "vsGpGeWHVf5P"
      }
    },
    {
      "cell_type": "markdown",
      "source": [
        "#**Q15**"
      ],
      "metadata": {
        "id": "ypGMRGbxVf74"
      }
    },
    {
      "cell_type": "markdown",
      "source": [
        "1. Download the Python installer from the official website.\n",
        "2. Run the installer, ensuring to check \"Add Python to PATH\".\n",
        "3. Set the PATH variable manually if needed by adding the Python and Scripts directories.\n",
        "4. Verify the installation through the Command Prompt."
      ],
      "metadata": {
        "id": "Gj1dlr5TVf-R"
      }
    },
    {
      "cell_type": "markdown",
      "source": [
        "#**Q16**"
      ],
      "metadata": {
        "id": "J9nGOKtDW7u3"
      }
    },
    {
      "cell_type": "markdown",
      "source": [
        "Yes, indentation is a fundamental aspect of Python's syntax and is required for defining the structure and organization of the code. Unlike many other programming languages that use braces '{}' or keywords to define code blocks, Python uses indentation to indicate the grouping of statements."
      ],
      "metadata": {
        "id": "yBfBUtoaW7w-"
      }
    }
  ]
}