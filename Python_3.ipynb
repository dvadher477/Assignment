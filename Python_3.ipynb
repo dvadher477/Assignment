{
  "nbformat": 4,
  "nbformat_minor": 0,
  "metadata": {
    "colab": {
      "provenance": []
    },
    "kernelspec": {
      "name": "python3",
      "display_name": "Python 3"
    },
    "language_info": {
      "name": "python"
    }
  },
  "cells": [
    {
      "cell_type": "markdown",
      "source": [
        "#**Q1**"
      ],
      "metadata": {
        "id": "LkLVnvdQqcQ-"
      }
    },
    {
      "cell_type": "code",
      "source": [
        "list_of_tuples = [('Sachin Tendulkar', 34357), ('Ricky Ponting', 27483), ('Jack Kallis', 25534), ('Virat Kohli', 24936)]\n",
        "\n",
        "sorted_list = sorted(list_of_tuples, key=lambda x: x[1], reverse=True)\n",
        "\n",
        "print(\"Sorted list of tuples based on integer value (runs scored):\")\n",
        "for item in sorted_list:\n",
        "    print(item)"
      ],
      "metadata": {
        "colab": {
          "base_uri": "https://localhost:8080/"
        },
        "id": "mVf5oKi2qfgH",
        "outputId": "4f9fef9c-04a9-4ef7-8ff8-13b0abdb809d"
      },
      "execution_count": 2,
      "outputs": [
        {
          "output_type": "stream",
          "name": "stdout",
          "text": [
            "Sorted list of tuples based on integer value (runs scored):\n",
            "('Sachin Tendulkar', 34357)\n",
            "('Ricky Ponting', 27483)\n",
            "('Jack Kallis', 25534)\n",
            "('Virat Kohli', 24936)\n"
          ]
        }
      ]
    },
    {
      "cell_type": "markdown",
      "source": [
        "#**Q2**"
      ],
      "metadata": {
        "id": "5LpzPv08qrNY"
      }
    },
    {
      "cell_type": "code",
      "source": [
        "numbers = [1, 2, 3, 4, 5, 6, 7, 8, 9, 10]\n",
        "\n",
        "squares = list(map(lambda x: x**2, numbers))\n",
        "\n",
        "print(\"Original numbers:\", numbers)\n",
        "print(\"Squares of the numbers:\", squares)"
      ],
      "metadata": {
        "colab": {
          "base_uri": "https://localhost:8080/"
        },
        "id": "xyu5ZIy_qlnG",
        "outputId": "ce2e2b37-e696-4636-db99-9e1dc19e9be3"
      },
      "execution_count": 3,
      "outputs": [
        {
          "output_type": "stream",
          "name": "stdout",
          "text": [
            "Original numbers: [1, 2, 3, 4, 5, 6, 7, 8, 9, 10]\n",
            "Squares of the numbers: [1, 4, 9, 16, 25, 36, 49, 64, 81, 100]\n"
          ]
        }
      ]
    },
    {
      "cell_type": "markdown",
      "source": [
        "#**Q3**"
      ],
      "metadata": {
        "id": "ETimzFnMrOS4"
      }
    },
    {
      "cell_type": "code",
      "source": [
        "numbers = [1, 2, 3, 4, 5, 6, 7, 8, 9, 10]\n",
        "\n",
        "tuple_of_strings = tuple(map(lambda x: str(x), numbers))\n",
        "\n",
        "print(\"Given list of integers:\", numbers)\n",
        "print(\"Tuple of strings:\", tuple_of_strings)"
      ],
      "metadata": {
        "colab": {
          "base_uri": "https://localhost:8080/"
        },
        "id": "NgyUFhh3rLGI",
        "outputId": "74ed7955-a850-41a0-8f73-1f66c667ae5d"
      },
      "execution_count": 4,
      "outputs": [
        {
          "output_type": "stream",
          "name": "stdout",
          "text": [
            "Given list of integers: [1, 2, 3, 4, 5, 6, 7, 8, 9, 10]\n",
            "Tuple of strings: ('1', '2', '3', '4', '5', '6', '7', '8', '9', '10')\n"
          ]
        }
      ]
    },
    {
      "cell_type": "markdown",
      "source": [
        "#**Q4**"
      ],
      "metadata": {
        "id": "1tS7T41DrbwJ"
      }
    },
    {
      "cell_type": "code",
      "source": [
        "from functools import reduce\n",
        "\n",
        "def multiply(x, y):\n",
        "    return x * y\n",
        "\n",
        "numbers = list(range(1, 26))\n",
        "\n",
        "product = reduce(multiply, numbers)\n",
        "\n",
        "print(\"Product of numbers from 1 to 25:\", product)"
      ],
      "metadata": {
        "colab": {
          "base_uri": "https://localhost:8080/"
        },
        "id": "ejdbVHUnrdfg",
        "outputId": "0f48bf79-a974-44dd-bb7b-2be9e43a0f34"
      },
      "execution_count": 5,
      "outputs": [
        {
          "output_type": "stream",
          "name": "stdout",
          "text": [
            "Product of numbers from 1 to 25: 15511210043330985984000000\n"
          ]
        }
      ]
    },
    {
      "cell_type": "markdown",
      "source": [
        "#**Q5**"
      ],
      "metadata": {
        "id": "rgiKZTl7vm6f"
      }
    },
    {
      "cell_type": "code",
      "source": [
        "numbers = [2, 3, 6, 9, 27, 60, 90, 120, 55, 46]\n",
        "\n",
        "filtered_numbers = list(filter(lambda x: x % 2 == 0 and x % 3 == 0, numbers))\n",
        "\n",
        "print(\"Numbers divisible by both 2 and 3:\", filtered_numbers)"
      ],
      "metadata": {
        "colab": {
          "base_uri": "https://localhost:8080/"
        },
        "id": "3HUXCcBKvppW",
        "outputId": "2b9e899e-da55-4a10-9b8d-9a07b7c7e0a6"
      },
      "execution_count": 6,
      "outputs": [
        {
          "output_type": "stream",
          "name": "stdout",
          "text": [
            "Numbers divisible by both 2 and 3: [6, 60, 90, 120]\n"
          ]
        }
      ]
    },
    {
      "cell_type": "markdown",
      "source": [
        "#**Q6**"
      ],
      "metadata": {
        "id": "e7iz8vFZv04H"
      }
    },
    {
      "cell_type": "code",
      "source": [
        "words = ['python', 'php', 'aba', 'radar', 'level']\n",
        "\n",
        "palindromes = list(filter(lambda x: x == x[::-1], words))\n",
        "\n",
        "print(\"Palindromes in the list:\", palindromes)"
      ],
      "metadata": {
        "colab": {
          "base_uri": "https://localhost:8080/"
        },
        "id": "ny0WfKS6v5Lb",
        "outputId": "9ce509a7-3e83-4952-b94f-0f607e6a2795"
      },
      "execution_count": 7,
      "outputs": [
        {
          "output_type": "stream",
          "name": "stdout",
          "text": [
            "Palindromes in the list: ['php', 'aba', 'radar', 'level']\n"
          ]
        }
      ]
    },
    {
      "cell_type": "code",
      "source": [],
      "metadata": {
        "id": "fpWgAjflwH6e"
      },
      "execution_count": null,
      "outputs": []
    }
  ]
}