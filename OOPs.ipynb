{
  "nbformat": 4,
  "nbformat_minor": 0,
  "metadata": {
    "colab": {
      "provenance": []
    },
    "kernelspec": {
      "name": "python3",
      "display_name": "Python 3"
    },
    "language_info": {
      "name": "python"
    }
  },
  "cells": [
    {
      "cell_type": "markdown",
      "source": [
        "#**Q1**"
      ],
      "metadata": {
        "id": "0YzOVS3W3N1_"
      }
    },
    {
      "cell_type": "markdown",
      "source": [
        "#Class:\n",
        "\n",
        "A class is a blueprint or template for creating objects. It defines the properties (attributes) and behaviors (methods) that objects of the class will have. Essentially, a class encapsulates data for the object and operations that can be performed on the data."
      ],
      "metadata": {
        "id": "2Yk6ph7s3Ku4"
      }
    },
    {
      "cell_type": "markdown",
      "source": [
        "#Object:\n",
        "An object is an instance of a class. It is a concrete entity based on the class blueprint, with its own unique state (attributes) and behavior (methods). Objects are created from classes and represent specific instances of the class."
      ],
      "metadata": {
        "id": "LDIbKEjPBgIC"
      }
    },
    {
      "cell_type": "code",
      "source": [
        "class Car:\n",
        "    def __init__(self, make, model, year):\n",
        "        self.make = make\n",
        "        self.model = model\n",
        "        self.year = year\n",
        "\n",
        "    def display_info(self):\n",
        "        print(f\"Car: {self.make} {self.model} {self.year}\")\n",
        "\n",
        "    def start(self):\n",
        "        print(f\"{self.make} {self.model} starting...\")\n",
        "\n",
        "car1 = Car(\"Toyota\", \"Camry\", 2020)\n",
        "car2 = Car(\"Honda\", \"Accord\", 2018)\n",
        "\n",
        "car1.display_info()\n",
        "car2.start()\n"
      ],
      "metadata": {
        "colab": {
          "base_uri": "https://localhost:8080/"
        },
        "id": "5AohkAgQBkB7",
        "outputId": "0f265bd1-6740-4af2-821f-b696ca984c2b"
      },
      "execution_count": 2,
      "outputs": [
        {
          "output_type": "stream",
          "name": "stdout",
          "text": [
            "Car: Toyota Camry 2020\n",
            "Honda Accord starting...\n"
          ]
        }
      ]
    },
    {
      "cell_type": "markdown",
      "source": [
        "#**Q2**"
      ],
      "metadata": {
        "id": "4UFvl6kxCG70"
      }
    },
    {
      "cell_type": "markdown",
      "source": [
        "##Encapsulation:\n",
        "\n",
        "Encapsulation refers to the bundling of data (attributes) and methods (functions) that operate on the data into a single unit called a class. It allows for the data to be hidden and accessed only through methods, which provides data security and helps in preventing accidental modification of data.\n",
        "\n",
        "##Abstraction:\n",
        "\n",
        "Abstraction involves simplifying complex systems by modeling classes appropriate to the problem domain and working at the most relevant level of inheritance for a particular aspect of the problem. It focuses on essential qualities rather than specific details, allowing programmers to work with high-level concepts without needing to understand all the underlying complexities.\n",
        "\n",
        "##Inheritance:\n",
        "\n",
        "Inheritance is a mechanism by which one class (child or derived class) can inherit or acquire the properties (attributes and methods) of another class (parent or base class). It promotes code reusability and enables the creation of hierarchical relationships between classes, where subclasses can extend and specialize behaviors defined in their superclass.\n",
        "\n",
        "##Polymorphism:\n",
        "\n",
        "Polymorphism allows objects of different classes to be treated as objects of a common superclass. It refers to the ability of different classes to provide a different implementation of methods that are inherited from the same superclass or interface. Polymorphism enables flexibility and dynamic behavior in programming, where the correct method is invoked based on the object type at runtime (runtime polymorphism) or during compilation (compile-time polymorphism)."
      ],
      "metadata": {
        "id": "ksobs8_GCXkF"
      }
    },
    {
      "cell_type": "markdown",
      "source": [
        "#**Q3**"
      ],
      "metadata": {
        "id": "mxiayKbjCpLZ"
      }
    },
    {
      "cell_type": "markdown",
      "source": [
        "The __init__() function in Python is a special method, also known as the constructor method, that is automatically called when an object (instance) of a class is created. Its primary purpose is to initialize the attributes (properties) of the object. Here's why the __init__() function is used:\n",
        "\n",
        "Purpose of __init__()\n",
        "\n",
        "i)Initialization of Object State:\n",
        "\n",
        "The __init__() method initializes the state (attributes) of an object when it is created. It allows you to specify initial values for attributes, which define the object's initial state.\n",
        "\n",
        "ii)Parameterized Initialization:\n",
        "\n",
        "You can define parameters for __init__() to accept values when creating an object. These parameters are used to initialize the object's attributes based on the provided values.\n",
        "\n",
        "iii)Automatic Invocation:\n",
        "\n",
        "When you create an object using the class name followed by parentheses ( ), Python automatically calls the __init__() method to initialize the object. This ensures that every object starts with a defined initial state."
      ],
      "metadata": {
        "id": "a9dJf9WhDAwL"
      }
    },
    {
      "cell_type": "code",
      "source": [
        "class Book:\n",
        "    def __init__(self, title, author, price):\n",
        "        self.title = title\n",
        "        self.author = author\n",
        "        self.price = price\n",
        "\n",
        "    def display_info(self):\n",
        "        print(f\"Title: {self.title}\")\n",
        "        print(f\"Author: {self.author}\")\n",
        "        print(f\"Price: ${self.price}\")\n",
        "\n",
        "book1 = Book(\"Python Programming\", \"John Doe\", 39.99)\n",
        "book2 = Book(\"Data Science for Beginners\", \"Jane Smith\", 49.99)\n",
        "\n",
        "book1.display_info()\n",
        "book2.display_info()"
      ],
      "metadata": {
        "colab": {
          "base_uri": "https://localhost:8080/"
        },
        "id": "7XQ_9NspEe9D",
        "outputId": "1fd2c471-fb44-41cf-e663-efc24f956fec"
      },
      "execution_count": 3,
      "outputs": [
        {
          "output_type": "stream",
          "name": "stdout",
          "text": [
            "Title: Python Programming\n",
            "Author: John Doe\n",
            "Price: $39.99\n",
            "Title: Data Science for Beginners\n",
            "Author: Jane Smith\n",
            "Price: $49.99\n"
          ]
        }
      ]
    },
    {
      "cell_type": "markdown",
      "source": [
        "#**Q4**"
      ],
      "metadata": {
        "id": "pGbsjj4dGO7Z"
      }
    },
    {
      "cell_type": "markdown",
      "source": [
        "In Object-Oriented Programming (OOP) in Python, self is a special parameter that refers to the instance of the class (object) itself. It is used within methods to access and modify attributes or invoke other methods on the same object. Understanding why self is used is crucial for effectively working with classes and objects. Here are the main reasons why self is used in OOP:\n",
        "\n",
        "1. Accessing Instance Variables:\n",
        "Purpose: self allows instance methods to access and modify instance variables (attributes) of the object.\n",
        "\n",
        "Example: In a class representing a Car, self.speed would refer to the speed attribute of the specific Car object.\n",
        "\n",
        "2. Calling Other Instance Methods:\n",
        "Purpose: self is necessary to call other instance methods within the same class.\n",
        "\n",
        "Example: Within a Car class, self.start() would call the start() method defined in the same class, operating on the current instance of Car.\n",
        "\n",
        "3. Differentiating between Instance and Local Variables:\n",
        "Purpose: self distinguishes between instance variables (belonging to the object) and local variables (local to a method).\n",
        "\n",
        "Example: Inside an __init__ method, self.speed = 0 initializes an instance variable speed, whereas speed = 0 would create a local variable inside the __init__ method.\n",
        "\n",
        "4. Making Methods and Variables Instance-specific:\n",
        "Purpose: self ensures that each instance of a class maintains its own state and behaviors, separate from other instances.\n",
        "\n",
        "Example: Each Car object can have different attributes (like self.make, self.model) and behaviors (methods like self.start(), self.stop())."
      ],
      "metadata": {
        "id": "D4B3Oyt6GhOo"
      }
    },
    {
      "cell_type": "code",
      "source": [
        "class Car:\n",
        "    def __init__(self, make, model):\n",
        "        self.make = make\n",
        "        self.model = model\n",
        "        self.speed = 0\n",
        "\n",
        "    def start(self):\n",
        "        print(f\"{self.make} {self.model} starting...\")\n",
        "        self.speed = 10\n",
        "\n",
        "    def accelerate(self, increment):\n",
        "        self.speed += increment\n",
        "\n",
        "    def display_speed(self):\n",
        "        print(f\"Current speed of {self.make} {self.model}: {self.speed} km/h\")\n",
        "\n",
        "car1 = Car(\"Toyota\", \"Camry\")\n",
        "car2 = Car(\"Honda\", \"Accord\")\n",
        "\n",
        "car1.start()\n",
        "car1.accelerate(20)\n",
        "car1.display_speed()\n",
        "\n",
        "car2.start()\n",
        "car2.accelerate(15)\n",
        "car2.display_speed()"
      ],
      "metadata": {
        "colab": {
          "base_uri": "https://localhost:8080/"
        },
        "id": "YWLispFOGRmN",
        "outputId": "5ab6dd7c-550a-4963-9f7d-8513784674d7"
      },
      "execution_count": 4,
      "outputs": [
        {
          "output_type": "stream",
          "name": "stdout",
          "text": [
            "Toyota Camry starting...\n",
            "Current speed of Toyota Camry: 30 km/h\n",
            "Honda Accord starting...\n",
            "Current speed of Honda Accord: 25 km/h\n"
          ]
        }
      ]
    },
    {
      "cell_type": "markdown",
      "source": [
        "#**Q5**"
      ],
      "metadata": {
        "id": "yH9S7F5pHdRQ"
      }
    },
    {
      "cell_type": "markdown",
      "source": [
        "Inheritance is a fundamental concept in Object-Oriented Programming (OOP) where a class (known as a derived class or subclass) inherits attributes and methods from another class (known as a base class or superclass). This allows the subclass to reuse the code defined in the superclass and also to extend or modify its behavior."
      ],
      "metadata": {
        "id": "Hisyx_98H1dI"
      }
    },
    {
      "cell_type": "markdown",
      "source": [
        "###Single Inheritance:\n",
        "\n",
        "Single inheritance involves inheriting attributes and methods from a single base class."
      ],
      "metadata": {
        "id": "RcQfR_nqH_Ga"
      }
    },
    {
      "cell_type": "code",
      "source": [
        "class Animal:\n",
        "    def __init__(self, species):\n",
        "        self.species = species\n",
        "\n",
        "    def speak(self):\n",
        "        raise NotImplementedError(\"Subclass must implement abstract method\")\n",
        "\n",
        "class Dog(Animal):\n",
        "    def __init__(self, name):\n",
        "        super().__init__(\"Dog\")\n",
        "        self.name = name\n",
        "\n",
        "    def speak(self):\n",
        "        return \"Woof!\"\n",
        "\n",
        "dog = Dog(\"Buddy\")\n",
        "print(dog.species)\n",
        "print(dog.name)\n",
        "print(dog.speak())"
      ],
      "metadata": {
        "colab": {
          "base_uri": "https://localhost:8080/"
        },
        "id": "gyu1A4-iIKll",
        "outputId": "fda8532c-91fa-4f48-fd1e-812dd02fbedd"
      },
      "execution_count": 5,
      "outputs": [
        {
          "output_type": "stream",
          "name": "stdout",
          "text": [
            "Dog\n",
            "Buddy\n",
            "Woof!\n"
          ]
        }
      ]
    },
    {
      "cell_type": "markdown",
      "source": [
        "###Multiple Inheritance:\n",
        "\n",
        "Multiple inheritance involves inheriting attributes and methods from more than one base class."
      ],
      "metadata": {
        "id": "VNG7LP6NIIBc"
      }
    },
    {
      "cell_type": "code",
      "source": [
        "class Animal:\n",
        "    def __init__(self, species):\n",
        "        self.species = species\n",
        "\n",
        "class Mammal:\n",
        "    def __init__(self, sound):\n",
        "        self.sound = sound\n",
        "\n",
        "    def make_sound(self):\n",
        "        return self.sound\n",
        "\n",
        "class Dog(Animal, Mammal):\n",
        "    def __init__(self, name, sound):\n",
        "        Animal.__init__(self, \"Dog\")\n",
        "        Mammal.__init__(self, sound)\n",
        "        self.name = name\n",
        "\n",
        "dog = Dog(\"Buddy\", \"Woof!\")\n",
        "print(dog.species)\n",
        "print(dog.make_sound())\n"
      ],
      "metadata": {
        "colab": {
          "base_uri": "https://localhost:8080/"
        },
        "id": "uHs-mLk6J2Cp",
        "outputId": "6c0872d4-802a-45a5-cbe7-29ffaba87f50"
      },
      "execution_count": 6,
      "outputs": [
        {
          "output_type": "stream",
          "name": "stdout",
          "text": [
            "Dog\n",
            "Woof!\n"
          ]
        }
      ]
    },
    {
      "cell_type": "markdown",
      "source": [
        "###Multilevel Inheritance:\n",
        "\n",
        "Multilevel inheritance involves chaining inheritance across multiple levels of classes.\n",
        "\n"
      ],
      "metadata": {
        "id": "4hERb1SMOt0-"
      }
    },
    {
      "cell_type": "code",
      "source": [
        "class Animal:\n",
        "    def __init__(self, species):\n",
        "        self.species = species\n",
        "\n",
        "class Mammal(Animal):\n",
        "    def __init__(self, species, sound):\n",
        "        super().__init__(species)\n",
        "        self.sound = sound\n",
        "\n",
        "    def make_sound(self):\n",
        "        return self.sound\n",
        "\n",
        "class Dog(Mammal):\n",
        "    def __init__(self, name):\n",
        "        super().__init__(\"Dog\", \"Woof!\")\n",
        "        self.name = name\n",
        "\n",
        "dog = Dog(\"Buddy\")\n",
        "print(dog.species)\n",
        "print(dog.make_sound())\n"
      ],
      "metadata": {
        "colab": {
          "base_uri": "https://localhost:8080/"
        },
        "id": "XLwEzcJZOxmQ",
        "outputId": "d51f2f1b-bb04-4cd3-8a19-1e476b5ab7ef"
      },
      "execution_count": 8,
      "outputs": [
        {
          "output_type": "stream",
          "name": "stdout",
          "text": [
            "Dog\n",
            "Woof!\n"
          ]
        }
      ]
    },
    {
      "cell_type": "code",
      "source": [],
      "metadata": {
        "id": "SUCz8vcjO67z"
      },
      "execution_count": null,
      "outputs": []
    }
  ]
}